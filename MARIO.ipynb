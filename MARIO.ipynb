{
 "cells": [
  {
   "cell_type": "markdown",
   "id": "447277ad",
   "metadata": {},
   "source": [
    "**setting environment**"
   ]
  },
  {
   "cell_type": "code",
   "execution_count": null,
   "id": "8a55ce0a",
   "metadata": {},
   "outputs": [],
   "source": [
    "!pip install gym_super_mario_bros==7.3.0 nes_py"
   ]
  },
  {
   "cell_type": "code",
   "execution_count": null,
   "id": "4ff9c466",
   "metadata": {},
   "outputs": [],
   "source": [
    "#import the game\n",
    "import gym_super_mario_bros\n",
    "#import the joypad wrapper\n",
    "from nes_py.wrappers import JoypadSpace\n",
    "#import the SIMPLIFIED controls\n",
    "from gym_super_mario_bros.actions import SIMPLE_MOVEMENT"
   ]
  },
  {
   "cell_type": "code",
   "execution_count": null,
   "id": "10a81b2c",
   "metadata": {},
   "outputs": [],
   "source": [
    "SIMPLE_MOVEMENT"
   ]
  },
  {
   "cell_type": "code",
   "execution_count": null,
   "id": "c3752a6c",
   "metadata": {},
   "outputs": [],
   "source": [
    "#setup the game\n",
    "env = gym_super_mario_bros.make('SuperMarioBros-v0')\n",
    "env = JoypadSpace(env,SIMPLE_MOVEMENT)"
   ]
  },
  {
   "cell_type": "code",
   "execution_count": null,
   "id": "f94fb5fc",
   "metadata": {},
   "outputs": [],
   "source": [
    "env.observation_space.shape"
   ]
  },
  {
   "cell_type": "code",
   "execution_count": null,
   "id": "5400a8b3",
   "metadata": {},
   "outputs": [],
   "source": [
    "env.action_space"
   ]
  },
  {
   "cell_type": "code",
   "execution_count": null,
   "id": "a9d77ffa",
   "metadata": {},
   "outputs": [],
   "source": [
    "'''\n",
    "done = True\n",
    "for step in range(2):\n",
    "    if done:\n",
    "        env.reset()\n",
    "    #taking random actions\n",
    "    state,reward,done,info = env.step(env.action_space.sample())\n",
    "    #show the game on the screen\n",
    "    env.render()\n",
    "env.close()\n",
    "'''"
   ]
  },
  {
   "cell_type": "code",
   "execution_count": null,
   "id": "5ec8e034",
   "metadata": {},
   "outputs": [],
   "source": [
    "#import frame stacker wrapper and Grayscaling wrapper\n",
    "from gym.wrappers import GrayScaleObservation\n",
    "#import Vectorization wrappers\n",
    "from stable_baselines3.common.vec_env import VecFrameStack,DummyVecEnv\n",
    "#import matplotlib to show the impact of frame stacking\n",
    "from matplotlib import pyplot as plt"
   ]
  },
  {
   "cell_type": "code",
   "execution_count": null,
   "id": "b81efb19",
   "metadata": {},
   "outputs": [],
   "source": [
    "# 1. create the base environment\n",
    "env = gym_super_mario_bros.make('SuperMarioBros-v0')\n",
    "# 2. simplified the controls\n",
    "env = JoypadSpace(env,SIMPLE_MOVEMENT)\n",
    "# 3 .grayscale (reducing channels,i.e 1)\n",
    "env = GrayScaleObservation(env,keep_dim=True)\n",
    "# 4. wrap inside the Dummy environment\n",
    "env = DummyVecEnv([lambda: env])\n",
    "# 5. stack the frames\n",
    "env = VecFrameStack(env,10,channels_order='last')\n",
    "\n"
   ]
  },
  {
   "cell_type": "code",
   "execution_count": null,
   "id": "c16e43b8",
   "metadata": {},
   "outputs": [],
   "source": [
    "state = env.reset()"
   ]
  },
  {
   "cell_type": "code",
   "execution_count": null,
   "id": "bcc6a6c0",
   "metadata": {},
   "outputs": [],
   "source": [
    " state,reward,done,info = env.step([5])"
   ]
  },
  {
   "cell_type": "code",
   "execution_count": null,
   "id": "58e02794",
   "metadata": {},
   "outputs": [],
   "source": [
    "plt.figure(figsize=(20,16))\n",
    "for idx in range(state.shape[3]):\n",
    "    plt.subplot(1,10,idx+1)\n",
    "    plt.imshow(state[0][:,:,idx])\n",
    "plt.show()"
   ]
  },
  {
   "cell_type": "markdown",
   "id": "dc915459",
   "metadata": {},
   "source": [
    "**training the model**"
   ]
  },
  {
   "cell_type": "code",
   "execution_count": null,
   "id": "0fdae149",
   "metadata": {},
   "outputs": [],
   "source": [
    "#import os for file path management\n",
    "import os\n",
    "#import ppo for algos\n",
    "from stable_baselines3 import PPO\n",
    "#import Base callback for saving models\n",
    "from stable_baselines3.common.callbacks import BaseCallback"
   ]
  },
  {
   "cell_type": "code",
   "execution_count": null,
   "id": "61cfcc40",
   "metadata": {},
   "outputs": [],
   "source": [
    "CHECKPOINT_DIR = './train/'\n",
    "LOG_DIR = './logs/'"
   ]
  },
  {
   "cell_type": "code",
   "execution_count": null,
   "id": "a583cf4e",
   "metadata": {},
   "outputs": [],
   "source": [
    "#this is the ai model started\n",
    "model = PPO('CnnPolicy',env,verbose=1,tensorboard_log=LOG_DIR,learning_rate=0.0000001,n_steps=512)"
   ]
  },
  {
   "cell_type": "code",
   "execution_count": null,
   "id": "df404ee7",
   "metadata": {},
   "outputs": [],
   "source": [
    "#train the ai model, this is the ai model starts to learn\n",
    "model.learn(total_timesteps=1000)"
   ]
  },
  {
   "cell_type": "code",
   "execution_count": null,
   "id": "20627816",
   "metadata": {},
   "outputs": [],
   "source": [
    "model.save('this_is_mario3')"
   ]
  },
  {
   "cell_type": "code",
   "execution_count": null,
   "id": "bba40b79",
   "metadata": {},
   "outputs": [],
   "source": [
    "model = PPO.load('this_is_mario3')"
   ]
  },
  {
   "cell_type": "code",
   "execution_count": null,
   "id": "310746aa",
   "metadata": {},
   "outputs": [],
   "source": [
    "#start the game\n",
    "state = env.reset()\n",
    "#loop through the game\n",
    "while True:\n",
    "    action,_ = model.predict(state)\n",
    "    state,reward,done,info = env.step(action)\n",
    "    env.render()"
   ]
  },
  {
   "cell_type": "code",
   "execution_count": null,
   "id": "49bc22e1",
   "metadata": {},
   "outputs": [],
   "source": []
  },
  {
   "cell_type": "code",
   "execution_count": null,
   "id": "ed1bc223",
   "metadata": {},
   "outputs": [],
   "source": []
  }
 ],
 "metadata": {
  "kernelspec": {
   "display_name": "Python 3 (ipykernel)",
   "language": "python",
   "name": "python3"
  },
  "language_info": {
   "codemirror_mode": {
    "name": "ipython",
    "version": 3
   },
   "file_extension": ".py",
   "mimetype": "text/x-python",
   "name": "python",
   "nbconvert_exporter": "python",
   "pygments_lexer": "ipython3",
   "version": "3.9.12"
  },
  "vscode": {
   "interpreter": {
    "hash": "607db476e417971f05b607c2dd14e77ee8262c2c4c20dea422522c60605a222a"
   }
  },
  "widgets": {
   "application/vnd.jupyter.widget-state+json": {
    "state": {},
    "version_major": 2,
    "version_minor": 0
   }
  }
 },
 "nbformat": 4,
 "nbformat_minor": 5
}
